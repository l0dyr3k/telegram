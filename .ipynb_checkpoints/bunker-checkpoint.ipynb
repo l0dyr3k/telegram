{
 "cells": [
  {
   "cell_type": "markdown",
   "id": "e83cb15b-4781-4c98-a15b-c1fa88b2db98",
   "metadata": {
    "tags": []
   },
   "source": [
    "## Bot for bunker game"
   ]
  },
  {
   "cell_type": "code",
   "execution_count": 1,
   "id": "8dc6db51-6ef8-4d84-8a66-04b25bda8b74",
   "metadata": {},
   "outputs": [],
   "source": [
    "import json\n",
    "import os\n",
    "from telegram import InlineKeyboardButton, InlineKeyboardMarkup, ForceReply, Update\n",
    "from telegram.ext import (\n",
    "    Updater, \n",
    "    CommandHandler, \n",
    "    MessageHandler, \n",
    "    Filters, \n",
    "    CallbackContext, \n",
    "    CallbackQueryHandler, \n",
    "    ConversationHandler,\n",
    ")"
   ]
  },
  {
   "cell_type": "code",
   "execution_count": 2,
   "id": "79f2da1e-3b8d-43f1-931c-f945497fc8fe",
   "metadata": {},
   "outputs": [],
   "source": [
    "# bot's token\n",
    "TOKEN = os.getenv('TOKEN')"
   ]
  },
  {
   "cell_type": "code",
   "execution_count": 3,
   "id": "d22df7a1-91f5-4432-ad82-7cbcd416b665",
   "metadata": {},
   "outputs": [],
   "source": [
    "def start(update: Update, context: CallbackContext) -> None:\n",
    "    update.message.reply_text(\"A good beginning is most important\")\n",
    "    \n",
    "def create_character_pattern(update: Update, context: CallbackContext) -> None:\n",
    "    keyboard = [\n",
    "        [\n",
    "            InlineKeyboardButton(\"Yes\", callback_data=\"y\"),\n",
    "            InlineKeyboardButton(\"No\", callback_data=\"n\"),\n",
    "        ]\n",
    "    ]\n",
    "    reply_markup = InlineKeyboardMarkup(keyboard)\n",
    "    \n",
    "def main():\n",
    "    updater = Updater(TOKEN)\n",
    "    dispatcher = updater.dispatcher\n",
    "    dispatcher.add_handler(CommandHandler(\"start\", start))\n",
    "    updater.start_polling()\n",
    "    updater.idle()"
   ]
  },
  {
   "cell_type": "code",
   "execution_count": null,
   "id": "9e884fd5-6849-41f6-ae18-584c6bbcff59",
   "metadata": {},
   "outputs": [],
   "source": [
    "main()"
   ]
  }
 ],
 "metadata": {
  "kernelspec": {
   "display_name": "Python 3 (ipykernel)",
   "language": "python",
   "name": "python3"
  },
  "language_info": {
   "codemirror_mode": {
    "name": "ipython",
    "version": 3
   },
   "file_extension": ".py",
   "mimetype": "text/x-python",
   "name": "python",
   "nbconvert_exporter": "python",
   "pygments_lexer": "ipython3",
   "version": "3.10.6"
  }
 },
 "nbformat": 4,
 "nbformat_minor": 5
}
